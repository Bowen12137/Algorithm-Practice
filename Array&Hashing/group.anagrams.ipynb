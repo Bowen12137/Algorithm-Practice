{
 "cells": [
  {
   "cell_type": "markdown",
   "metadata": {},
   "source": [
    "# Group Anagrams\n",
    "https://leetcode.com/problems/group-anagrams/description/"
   ]
  },
  {
   "cell_type": "code",
   "execution_count": 3,
   "metadata": {},
   "outputs": [],
   "source": [
    "#test case\n",
    "test_1 = [\"eat\",\"tea\",\"tan\",\"ate\",\"nat\",\"bat\"]\n",
    "test_2 = [\"\"]\n",
    "test_3 = [\"a\"]"
   ]
  },
  {
   "cell_type": "code",
   "execution_count": 6,
   "metadata": {},
   "outputs": [
    {
     "name": "stdout",
     "output_type": "stream",
     "text": [
      "[['eat', 'tea', 'ate'], ['tan', 'nat'], ['bat']]\n",
      "[['']]\n",
      "[['a']]\n"
     ]
    }
   ],
   "source": [
    "from collections import defaultdict\n",
    "def groupAnagrams(strs):\n",
    "    anagram_map = defaultdict(list)\n",
    "    for word in strs:\n",
    "        sorted_word = ''.join(sorted(word))\n",
    "        anagram_map[sorted_word].append(word)\n",
    "    return list(anagram_map.values())\n",
    "\n",
    "print(groupAnagrams(test_1))\n",
    "print(groupAnagrams(test_2))\n",
    "print(groupAnagrams(test_3))"
   ]
  }
 ],
 "metadata": {
  "kernelspec": {
   "display_name": "pytorch",
   "language": "python",
   "name": "python3"
  },
  "language_info": {
   "codemirror_mode": {
    "name": "ipython",
    "version": 3
   },
   "file_extension": ".py",
   "mimetype": "text/x-python",
   "name": "python",
   "nbconvert_exporter": "python",
   "pygments_lexer": "ipython3",
   "version": "3.8.5"
  }
 },
 "nbformat": 4,
 "nbformat_minor": 2
}
