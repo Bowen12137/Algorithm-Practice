{
 "cells": [
  {
   "cell_type": "markdown",
   "metadata": {},
   "source": [
    "# Contains Duplicate\n",
    "\n",
    "https://leetcode.com/problems/contains-duplicate/description/"
   ]
  },
  {
   "cell_type": "code",
   "execution_count": 2,
   "metadata": {},
   "outputs": [],
   "source": [
    "# Test Case\n",
    "test_1 = [1,2,3,1]\n",
    "test_2 = [1,2,3,4]\n",
    "test_3 = [1,1,1,3,3,4,3,2,4,2]"
   ]
  },
  {
   "cell_type": "code",
   "execution_count": 5,
   "metadata": {},
   "outputs": [
    {
     "name": "stdout",
     "output_type": "stream",
     "text": [
      "True\n",
      "False\n",
      "True\n"
     ]
    }
   ],
   "source": [
    "# Approach 1: Brute Force\n",
    "# Time Complexity O(n^2)\n",
    "def containDuplicate_1(nums):\n",
    "    n = len(nums)\n",
    "    for i in range(n-1):\n",
    "        for j in range(i + 1, n):\n",
    "            if nums[i] == nums[j]:\n",
    "                return True\n",
    "    return False\n",
    "print(containDuplicate_1(test_1))\n",
    "print(containDuplicate_1(test_2))\n",
    "print(containDuplicate_1(test_3))"
   ]
  },
  {
   "cell_type": "code",
   "execution_count": 6,
   "metadata": {},
   "outputs": [
    {
     "name": "stdout",
     "output_type": "stream",
     "text": [
      "True\n",
      "False\n",
      "True\n"
     ]
    }
   ],
   "source": [
    "# Approach 2 : Sort and Check\n",
    "# Time Complexity O(nlogn)\n",
    "def containDuplicate_2(nums):\n",
    "    nums.sort()\n",
    "    n = len(nums)\n",
    "    for i in range(1,n):\n",
    "        if nums[i] == nums[i-1]:\n",
    "            return True\n",
    "    return False\n",
    "print(containDuplicate_1(test_1))\n",
    "print(containDuplicate_1(test_2))\n",
    "print(containDuplicate_1(test_3))"
   ]
  },
  {
   "cell_type": "code",
   "execution_count": 8,
   "metadata": {},
   "outputs": [
    {
     "name": "stdout",
     "output_type": "stream",
     "text": [
      "True\n",
      "False\n",
      "True\n"
     ]
    }
   ],
   "source": [
    "# Approach 3 : hashset\n",
    "# Time Complexity O(n)\n",
    "def containDuplicate_3(nums):\n",
    "    seen = set()\n",
    "    for i in range(len(nums)-1):\n",
    "        seen.add(nums[i])\n",
    "    \n",
    "    return not (len(nums) == len(seen))\n",
    "print(containDuplicate_1(test_1))\n",
    "print(containDuplicate_1(test_2))\n",
    "print(containDuplicate_1(test_3))"
   ]
  },
  {
   "cell_type": "code",
   "execution_count": 9,
   "metadata": {},
   "outputs": [
    {
     "name": "stdout",
     "output_type": "stream",
     "text": [
      "True\n",
      "False\n",
      "True\n"
     ]
    }
   ],
   "source": [
    "# Approach 4 : hashmap\n",
    "# Time Complexity O(n)\n",
    "def containDuplicate_4(nums):\n",
    "    seen = {}\n",
    "    for num in nums:\n",
    "        if num in seen and seen[num] >=1:\n",
    "            return True\n",
    "        seen[num] = seen.get(num,0) + 1\n",
    "    return False\n",
    "print(containDuplicate_1(test_1))\n",
    "print(containDuplicate_1(test_2))\n",
    "print(containDuplicate_1(test_3))"
   ]
  }
 ],
 "metadata": {
  "kernelspec": {
   "display_name": "pytorch",
   "language": "python",
   "name": "python3"
  },
  "language_info": {
   "codemirror_mode": {
    "name": "ipython",
    "version": 3
   },
   "file_extension": ".py",
   "mimetype": "text/x-python",
   "name": "python",
   "nbconvert_exporter": "python",
   "pygments_lexer": "ipython3",
   "version": "3.8.5"
  }
 },
 "nbformat": 4,
 "nbformat_minor": 2
}
