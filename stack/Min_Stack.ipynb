{
 "cells": [
  {
   "cell_type": "markdown",
   "metadata": {},
   "source": [
    "# Min Stack\n",
    "\n",
    "https://leetcode.com/problems/min-stack/description/"
   ]
  },
  {
   "cell_type": "code",
   "execution_count": null,
   "metadata": {},
   "outputs": [],
   "source": [
    "class MinStack:\n",
    "\n",
    "    def __init__(self):\n",
    "        # Initialize two stacks: one for the main stack, one for tracking minimums\n",
    "        self.stack = []\n",
    "        self.min_stack = []\n",
    "\n",
    "    def push(self, val: int) -> None:\n",
    "        # Push the value to the main stack\n",
    "        self.stack.append(val)\n",
    "        \n",
    "        # If the min stack is empty or the new value is less than or equal to the current minimum, push it to the min stack\n",
    "        if not self.min_stack or val <= self.min_stack[-1]:\n",
    "            self.min_stack.append(val)\n",
    "\n",
    "    def pop(self) -> None:\n",
    "        # Pop the value from the main stack\n",
    "        val = self.stack.pop()\n",
    "        \n",
    "        # If the popped value is the current minimum, pop it from the min stack as well\n",
    "        if val == self.min_stack[-1]:\n",
    "            self.min_stack.pop()\n",
    "\n",
    "    def top(self) -> int:\n",
    "        # Return the top value from the main stack\n",
    "        return self.stack[-1]\n",
    "\n",
    "    def getMin(self) -> int:\n",
    "        # Return the top value from the min stack (the current minimum)\n",
    "        return self.min_stack[-1]\n"
   ]
  }
 ],
 "metadata": {
  "language_info": {
   "name": "python"
  }
 },
 "nbformat": 4,
 "nbformat_minor": 2
}
