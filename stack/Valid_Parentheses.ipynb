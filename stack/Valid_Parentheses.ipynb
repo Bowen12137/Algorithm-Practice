{
 "cells": [
  {
   "cell_type": "markdown",
   "metadata": {},
   "source": [
    "# Valid_Parentheses\n",
    "\n",
    "https://leetcode.com/problems/valid-parentheses/"
   ]
  },
  {
   "cell_type": "code",
   "execution_count": null,
   "metadata": {},
   "outputs": [],
   "source": [
    "# test example\n",
    "\n"
   ]
  },
  {
   "cell_type": "code",
   "execution_count": 2,
   "metadata": {},
   "outputs": [],
   "source": [
    "def isValid(s: str) -> bool:\n",
    "    # Dictionary to hold mappings of closing to opening brackets\n",
    "    bracket_map = {')': '(', '}': '{', ']': '['}\n",
    "    stack = []\n",
    "\n",
    "    # Iterate through the characters in the string\n",
    "    for char in s:\n",
    "        # If it's a closing bracket\n",
    "        if char in bracket_map:\n",
    "            # Pop the top element from the stack if it's not empty, else assign '#'\n",
    "            top_element = stack.pop() if stack else '#'\n",
    "            \n",
    "            # Check if the popped element matches the corresponding opening bracket\n",
    "            if bracket_map[char] != top_element:\n",
    "                return False\n",
    "        else:\n",
    "            # It's an opening bracket, push onto the stack\n",
    "            stack.append(char)\n",
    "\n",
    "    # The stack should be empty if all opening brackets were closed\n",
    "    return not stack\n"
   ]
  },
  {
   "cell_type": "code",
   "execution_count": 3,
   "metadata": {},
   "outputs": [
    {
     "name": "stdout",
     "output_type": "stream",
     "text": [
      "True\n",
      "True\n",
      "False\n",
      "False\n",
      "True\n"
     ]
    }
   ],
   "source": [
    "print(isValid(\"()\"))        # Output: True\n",
    "print(isValid(\"()[]{}\"))    # Output: True\n",
    "print(isValid(\"(]\"))        # Output: False\n",
    "print(isValid(\"([)]\"))      # Output: False\n",
    "print(isValid(\"{[]}\"))      # Output: True\n"
   ]
  }
 ],
 "metadata": {
  "kernelspec": {
   "display_name": "Python 3",
   "language": "python",
   "name": "python3"
  },
  "language_info": {
   "codemirror_mode": {
    "name": "ipython",
    "version": 3
   },
   "file_extension": ".py",
   "mimetype": "text/x-python",
   "name": "python",
   "nbconvert_exporter": "python",
   "pygments_lexer": "ipython3",
   "version": "3.9.2"
  }
 },
 "nbformat": 4,
 "nbformat_minor": 2
}
