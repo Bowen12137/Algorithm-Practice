{
 "cells": [
  {
   "cell_type": "markdown",
   "metadata": {},
   "source": [
    "# Valid Palindrome\n",
    "\n",
    "https://leetcode.com/problems/valid-palindrome/solutions/3165353/beats-96-9-well-explained-code-in-java/"
   ]
  },
  {
   "cell_type": "code",
   "execution_count": 8,
   "metadata": {},
   "outputs": [],
   "source": [
    "## Test Case \n",
    "\n",
    "test_1 = \"A man, a plan, a canal: Panama\"\n",
    "test_2 = \"race a car\"\n",
    "test_3 = \"  \""
   ]
  },
  {
   "cell_type": "code",
   "execution_count": 13,
   "metadata": {},
   "outputs": [
    {
     "name": "stdout",
     "output_type": "stream",
     "text": [
      "True\n",
      "False\n",
      "False\n"
     ]
    }
   ],
   "source": [
    "## Apporach 1\n",
    "## check the first and the last, check the second and second last ....\n",
    "import re\n",
    "def clean_string(s):\n",
    "    cleaned = re.sub(r'[^a-zA-Z0-9]', '', s.lower())\n",
    "    return cleaned\n",
    "\n",
    "def ifPalindrome(s):\n",
    "\n",
    "    cleaned = clean_string(s)\n",
    "    if not cleaned:\n",
    "        return False\n",
    "    left = 0\n",
    "    right = len(cleaned) - 1\n",
    "    while left <= right:\n",
    "        if cleaned[left] == cleaned[right]:\n",
    "            right -= 1 \n",
    "            left += 1\n",
    "            continue\n",
    "        else:\n",
    "            return False\n",
    "    return True\n",
    "\n",
    "print(ifPalindrome(test_1))\n",
    "print(ifPalindrome(test_2))\n",
    "print(ifPalindrome(test_3))\n",
    "            "
   ]
  },
  {
   "cell_type": "code",
   "execution_count": 14,
   "metadata": {},
   "outputs": [
    {
     "name": "stdout",
     "output_type": "stream",
     "text": [
      "True\n",
      "False\n",
      "False\n"
     ]
    }
   ],
   "source": [
    "## Apporach 2\n",
    "## direct check the true sequence and the false sequence\n",
    "def ifPalindrome(s):\n",
    "    cleaned = clean_string(s)\n",
    "    if not cleaned:\n",
    "        return False\n",
    "    return cleaned == cleaned[::-1]\n",
    "\n",
    "print(ifPalindrome(test_1))\n",
    "print(ifPalindrome(test_2))\n",
    "print(ifPalindrome(test_3))"
   ]
  }
 ],
 "metadata": {
  "kernelspec": {
   "display_name": "Python 3",
   "language": "python",
   "name": "python3"
  },
  "language_info": {
   "codemirror_mode": {
    "name": "ipython",
    "version": 3
   },
   "file_extension": ".py",
   "mimetype": "text/x-python",
   "name": "python",
   "nbconvert_exporter": "python",
   "pygments_lexer": "ipython3",
   "version": "3.9.2"
  }
 },
 "nbformat": 4,
 "nbformat_minor": 2
}
