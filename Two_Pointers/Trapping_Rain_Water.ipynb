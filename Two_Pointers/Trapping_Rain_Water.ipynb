{
 "cells": [
  {
   "cell_type": "markdown",
   "metadata": {},
   "source": [
    "# Trapping_Rain_Water\n",
    "\n",
    "https://leetcode.com/problems/trapping-rain-water/"
   ]
  },
  {
   "cell_type": "code",
   "execution_count": 1,
   "metadata": {},
   "outputs": [
    {
     "name": "stdout",
     "output_type": "stream",
     "text": [
      "6\n"
     ]
    }
   ],
   "source": [
    "class Solution(object):\n",
    "    def trap(self, height):\n",
    "        \"\"\"\n",
    "        :type height: List[int]\n",
    "        :rtype: int\n",
    "        \"\"\"\n",
    "        if not height:  # If the height list is empty\n",
    "            return 0\n",
    "        \n",
    "        left, right = 0, len(height) - 1  # Initialize two pointers\n",
    "        left_max, right_max = height[left], height[right]  # Initialize left and right max values\n",
    "        water_trapped = 0\n",
    "        \n",
    "        while left < right:\n",
    "            if height[left] < height[right]:\n",
    "                # Water can only be trapped if the current bar is less than the left max\n",
    "                if height[left] >= left_max:\n",
    "                    left_max = height[left]\n",
    "                else:\n",
    "                    water_trapped += left_max - height[left]\n",
    "                left += 1\n",
    "            else:\n",
    "                # Water can only be trapped if the current bar is less than the right max\n",
    "                if height[right] >= right_max:\n",
    "                    right_max = height[right]\n",
    "                else:\n",
    "                    water_trapped += right_max - height[right]\n",
    "                right -= 1\n",
    "        \n",
    "        return water_trapped\n",
    "\n",
    "\n",
    "height = [0,1,0,2,1,0,1,3,2,1,2,1]\n",
    "solution = Solution()\n",
    "result = solution.trap(height)\n",
    "print(result)  # Output: 6\n"
   ]
  }
 ],
 "metadata": {
  "kernelspec": {
   "display_name": "Python 3",
   "language": "python",
   "name": "python3"
  },
  "language_info": {
   "codemirror_mode": {
    "name": "ipython",
    "version": 3
   },
   "file_extension": ".py",
   "mimetype": "text/x-python",
   "name": "python",
   "nbconvert_exporter": "python",
   "pygments_lexer": "ipython3",
   "version": "3.9.2"
  }
 },
 "nbformat": 4,
 "nbformat_minor": 2
}
