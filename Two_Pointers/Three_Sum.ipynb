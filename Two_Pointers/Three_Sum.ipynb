{
 "cells": [
  {
   "cell_type": "markdown",
   "metadata": {},
   "source": [
    "# Three Number Sum\n",
    "\n",
    "https://leetcode.com/problems/3sum/description/"
   ]
  },
  {
   "cell_type": "code",
   "execution_count": 1,
   "metadata": {},
   "outputs": [],
   "source": [
    "# Test Case\n",
    "test_1 = [-1,0,1,2,-1,-4]\n",
    "test_2 = [0,1,1]\n",
    "test_3 = [0,0,0]"
   ]
  },
  {
   "cell_type": "code",
   "execution_count": 2,
   "metadata": {},
   "outputs": [
    {
     "name": "stdout",
     "output_type": "stream",
     "text": [
      "[[-1, -1, 2], [-1, 0, 1]]\n",
      "[]\n",
      "[[0, 0, 0]]\n"
     ]
    }
   ],
   "source": [
    "def threeSum(nums):\n",
    "    nums.sort()  # Step 1: Sort the array\n",
    "    res = []     # To store the unique triplets\n",
    "    \n",
    "    for i in range(len(nums) - 2):  # Step 2: Iterate over the array\n",
    "        if i > 0 and nums[i] == nums[i - 1]:\n",
    "            continue  # Skip duplicate elements for `i`\n",
    "        \n",
    "        left, right = i + 1, len(nums) - 1  # Step 3: Two pointers\n",
    "        \n",
    "        while left < right:\n",
    "            total = nums[i] + nums[left] + nums[right]\n",
    "            \n",
    "            if total == 0:  # Found a valid triplet\n",
    "                res.append([nums[i], nums[left], nums[right]])\n",
    "                \n",
    "                # Move left pointer past duplicates\n",
    "                while left < right and nums[left] == nums[left + 1]:\n",
    "                    left += 1\n",
    "                # Move right pointer past duplicates\n",
    "                while left < right and nums[right] == nums[right - 1]:\n",
    "                    right -= 1\n",
    "                \n",
    "                # Move both pointers after finding a valid triplet\n",
    "                left += 1\n",
    "                right -= 1\n",
    "                \n",
    "            elif total < 0:  # If the sum is too small, move the left pointer to the right\n",
    "                left += 1\n",
    "            else:  # If the sum is too large, move the right pointer to the left\n",
    "                right -= 1\n",
    "    \n",
    "    return res  # Step 4: Return the list of triplets\n",
    "\n",
    "print(threeSum(test_1))\n",
    "print(threeSum(test_2))\n",
    "print(threeSum(test_3))\n"
   ]
  },
  {
   "cell_type": "code",
   "execution_count": 3,
   "metadata": {},
   "outputs": [
    {
     "name": "stdout",
     "output_type": "stream",
     "text": [
      "[(-1, 0, 1), (-1, -1, 2)]\n",
      "[]\n",
      "[(0, 0, 0)]\n"
     ]
    }
   ],
   "source": [
    "def threeSumBruteForce(nums):\n",
    "    n = len(nums)\n",
    "    res = set()  # To avoid duplicate triplets\n",
    "    for i in range(n):\n",
    "        for j in range(i + 1, n):\n",
    "            for k in range(j + 1, n):\n",
    "                if nums[i] + nums[j] + nums[k] == 0:\n",
    "                    triplet = tuple(sorted([nums[i], nums[j], nums[k]]))\n",
    "                    res.add(triplet)  # Add the sorted triplet to avoid duplicates\n",
    "    return list(res)\n",
    "\n",
    "print(threeSumBruteForce(test_1))\n",
    "print(threeSumBruteForce(test_2))\n",
    "print(threeSumBruteForce(test_3))"
   ]
  }
 ],
 "metadata": {
  "kernelspec": {
   "display_name": "Python 3",
   "language": "python",
   "name": "python3"
  },
  "language_info": {
   "codemirror_mode": {
    "name": "ipython",
    "version": 3
   },
   "file_extension": ".py",
   "mimetype": "text/x-python",
   "name": "python",
   "nbconvert_exporter": "python",
   "pygments_lexer": "ipython3",
   "version": "3.9.2"
  }
 },
 "nbformat": 4,
 "nbformat_minor": 2
}
