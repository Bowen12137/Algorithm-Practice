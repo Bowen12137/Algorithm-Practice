{
 "cells": [
  {
   "cell_type": "markdown",
   "metadata": {},
   "source": [
    "# Container With Most Water\n",
    "https://leetcode.com/problems/container-with-most-water/"
   ]
  },
  {
   "cell_type": "code",
   "execution_count": null,
   "metadata": {},
   "outputs": [],
   "source": [
    "# Test Case"
   ]
  },
  {
   "cell_type": "code",
   "execution_count": null,
   "metadata": {},
   "outputs": [],
   "source": [
    "#Apporach 1 Brute Force\n",
    "# Work But toooooo slow\n",
    "\n",
    "def maxArea(self, nums):\n",
    "    \"\"\"\n",
    "    :type height: List[int]\n",
    "    :rtype: int\n",
    "    \"\"\"\n",
    "    max_water = 0\n",
    "    for i in range(0,(len(nums)-1)):\n",
    "        for j in range(i+1, len(nums)):\n",
    "            container_height = min(nums[i],nums[j])\n",
    "            container_length = j-i\n",
    "            area = container_height * container_length\n",
    "            max_water = max(area, max_water)\n",
    "    return max_water\n"
   ]
  },
  {
   "cell_type": "code",
   "execution_count": null,
   "metadata": {},
   "outputs": [],
   "source": [
    "# Apporach 2 Two-pointer approach \n",
    "# Better, more efficient\n",
    "\n",
    "\n",
    "def maxArea(height):\n",
    "    # Initialize two pointers\n",
    "    left, right = 0, len(height) - 1\n",
    "    max_area = 0\n",
    "    \n",
    "    # Iterate until the two pointers meet\n",
    "    while left < right:\n",
    "        # Calculate the area\n",
    "        current_height = min(height[left], height[right])\n",
    "        current_width = right - left\n",
    "        current_area = current_height * current_width\n",
    "        \n",
    "        # Update the maximum area found so far\n",
    "        max_area = max(max_area, current_area)\n",
    "        \n",
    "        # Move the pointer pointing to the shorter line\n",
    "        if height[left] < height[right]:\n",
    "            left += 1\n",
    "        else:\n",
    "            right -= 1\n",
    "    \n",
    "    return max_area\n",
    "\n",
    "# Example Usage\n",
    "height = [1,8,6,2,5,4,8,3,7]\n",
    "result = maxArea(height)\n",
    "print(result)  # Output: 49\n"
   ]
  }
 ],
 "metadata": {
  "kernelspec": {
   "display_name": "Python 3",
   "language": "python",
   "name": "python3"
  },
  "language_info": {
   "name": "python",
   "version": "3.9.2"
  }
 },
 "nbformat": 4,
 "nbformat_minor": 2
}
